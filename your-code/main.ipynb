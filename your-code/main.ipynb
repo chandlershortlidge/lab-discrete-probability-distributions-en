{
 "cells": [
  {
   "cell_type": "markdown",
   "metadata": {},
   "source": [
    "# Before your start:\n",
    "\n",
    "    Read the README.md file\n",
    "    Comment as much as you can and use the resources (README.md file)\n",
    "    Happy learning!\n",
    "\n",
    "*Notes:* \n",
    "\n",
    "- Solve the questions with python.\n",
    "\n",
    "- Round the final answer to three decimal places."
   ]
  },
  {
   "cell_type": "code",
   "execution_count": 1,
   "metadata": {},
   "outputs": [],
   "source": [
    "from scipy import stats\n",
    "import numpy as np\n",
    "import matplotlib.pyplot as plt\n",
    "import math"
   ]
  },
  {
   "cell_type": "markdown",
   "metadata": {},
   "source": [
    "## Bernoulli's Distribution\n",
    "\n",
    "In a basket containing 100 fruits, there are 60 apples and 40 oranges. \n",
    "\n",
    "A fruit is picked randomly from the basket. \n",
    "\n",
    "1. **What is the probability that the fruit is apple?**\n",
    "1. **What is the probability that it is an orange?**"
   ]
  },
  {
   "cell_type": "code",
   "execution_count": null,
   "metadata": {},
   "outputs": [
    {
     "name": "stdout",
     "output_type": "stream",
     "text": [
      "P(apple) = 0.6\n",
      "P(orange) = 0.4\n",
      "Bernoulli P(X=1 for apple) = 0.6\n",
      "Bernoulli P(X=0 for orange) = 0.4\n"
     ]
    }
   ],
   "source": [
    "# Bernoulli's Distribution example\n",
    "\n",
    "from math import pow\n",
    "\n",
    "# Setup\n",
    "total = 100\n",
    "apples = 60\n",
    "oranges = 40\n",
    "\n",
    "# 1. Basic probabilities\n",
    "p_apple = apples / total\n",
    "p_orange = oranges / total\n",
    "\n",
    "print(\"P(apple) =\", p_apple)\n",
    "print(\"P(orange) =\", p_orange)\n",
    "\n",
    "# 2. Bernoulli distribution form\n",
    "p = p_apple  # probability of success (apple)\n",
    "\n",
    "def bernoulli(k, p):\n",
    "    return pow(p, k) * pow((1 - p), (1 - k))\n",
    "\n",
    "print(\"Bernoulli P(X=1 for apple) =\", bernoulli(1, p))\n",
    "print(\"Bernoulli P(X=0 for orange) =\", bernoulli(0, p))\n"
   ]
  },
  {
   "cell_type": "markdown",
   "metadata": {},
   "source": [
    "Now we take a random sample of 20 fruits from the basket. After each fruit is taken, a new fruit of the same type is replaced in the basket. Therefore, every time we are taking 1 fruit from 100 fruits. \n",
    "\n",
    "1. **What is the probability that the first 5 fruits are all apples?**\n",
    "\n",
    "1. **What is the probability that the first 5 fruits are all apples and the next 15 fruits are all oranges?**\n",
    "\n",
    "You can include the `p` and `q` probabilities you previous calculated in your solution."
   ]
  },
  {
   "cell_type": "code",
   "execution_count": 3,
   "metadata": {},
   "outputs": [
    {
     "name": "stdout",
     "output_type": "stream",
     "text": [
      "P(first 5 apples) = 0.07775999999999998\n",
      "P(5 apples then 15 oranges) = 8.349416423424006e-08\n"
     ]
    }
   ],
   "source": [
    "# Probabilities\n",
    "p = 0.6  # apple\n",
    "q = 0.4  # orange\n",
    "\n",
    "# 1. First 5 apples\n",
    "p_5_apples = p**5\n",
    "\n",
    "# 2. First 5 apples, next 15 oranges\n",
    "p_5_apples_15_oranges = (p**5) * (q**15)\n",
    "\n",
    "print(\"P(first 5 apples) =\", p_5_apples)\n",
    "print(\"P(5 apples then 15 oranges) =\", p_5_apples_15_oranges)\n"
   ]
  },
  {
   "cell_type": "markdown",
   "metadata": {},
   "source": [
    "## Binomial Distribution\n",
    "\n",
    "Similar to the above problem, this time again we randomly sample 20 fruits.\n",
    "\n",
    "**What is the probability that this time the sample contains 5 apples and 15 oranges?**\n",
    "\n",
    "Please note that this time the order of the fruits being picked does not matter."
   ]
  },
  {
   "cell_type": "code",
   "execution_count": 4,
   "metadata": {},
   "outputs": [
    {
     "name": "stdout",
     "output_type": "stream",
     "text": [
      "P(5 apples and 15 oranges) = 0.0012944935222876579\n"
     ]
    }
   ],
   "source": [
    "import math\n",
    "\n",
    "# Parameters\n",
    "n = 20\n",
    "k = 5\n",
    "p = 0.6\n",
    "q = 1 - p\n",
    "\n",
    "# Binomial probability\n",
    "prob_5_apples = math.comb(n, k) * (p**k) * (q**(n-k))\n",
    "\n",
    "print(\"P(5 apples and 15 oranges) =\", prob_5_apples)\n"
   ]
  },
  {
   "cell_type": "markdown",
   "metadata": {},
   "source": [
    "In the lesson we also discussed CDF (cumulative distribution function). In the context of the above problem, **what is the probability that less than 5 fruits picked are apples?**\n",
    "\n",
    "Write the formula and calculate the probability below."
   ]
  },
  {
   "cell_type": "code",
   "execution_count": null,
   "metadata": {},
   "outputs": [],
   "source": [
    "# your code here"
   ]
  },
  {
   "cell_type": "markdown",
   "metadata": {},
   "source": [
    "<!-- **Plot the PDF (probability distributiom function) for the above binomial distribution.** -->\n",
    "\n",
    "**Plot the Probability Mass Function (PMF) for the above binomial distribution.**\n",
    "\n",
    "*Hint: The range of x in a binomial distribution is from `0` to `n`.*"
   ]
  },
  {
   "cell_type": "code",
   "execution_count": 5,
   "metadata": {},
   "outputs": [
    {
     "name": "stdout",
     "output_type": "stream",
     "text": [
      "P(X < 5 apples) = 0.00031703112116863\n"
     ]
    }
   ],
   "source": [
    "import math\n",
    "\n",
    "# Parameters\n",
    "n = 20\n",
    "p = 0.6\n",
    "q = 1 - p\n",
    "\n",
    "# CDF: P(X <= 4)\n",
    "p_less_than_5 = sum(math.comb(n, k) * (p**k) * (q**(n-k)) for k in range(5))\n",
    "\n",
    "print(\"P(X < 5 apples) =\", p_less_than_5)\n",
    "\n",
    "# Please label the axes and give a title to the plot "
   ]
  },
  {
   "cell_type": "code",
   "execution_count": 6,
   "metadata": {},
   "outputs": [
    {
     "data": {
      "image/png": "[encoded data removed]",
      "text/plain": [
       "<Figure size 640x480 with 1 Axes>"
      ]
     },
     "metadata": {},
     "output_type": "display_data"
    }
   ],
   "source": [
    "import math\n",
    "import matplotlib.pyplot as plt\n",
    "\n",
    "# Parameters\n",
    "n = 20\n",
    "p = 0.6\n",
    "q = 1 - p\n",
    "\n",
    "# PMF values for all possible k (0 to n apples)\n",
    "k_values = list(range(n + 1))\n",
    "pmf_values = [math.comb(n, k) * (p**k) * (q**(n-k)) for k in k_values]\n",
    "\n",
    "# Plot bars for all outcomes\n",
    "plt.bar(k_values, pmf_values, color=\"skyblue\", edgecolor=\"black\")\n",
    "\n",
    "# Shade region for X < 5 (CDF region)\n",
    "for k in range(5):\n",
    "    plt.bar(k, pmf_values[k], color=\"orange\", edgecolor=\"black\")\n",
    "\n",
    "# Labels and title\n",
    "plt.xlabel(\"Number of Apples Picked (k)\")\n",
    "plt.ylabel(\"Probability P(X = k)\")\n",
    "plt.title(\"Binomial Distribution (n=20, p=0.6)\\nOrange area = P(X < 5)\")\n",
    "\n",
    "plt.show()\n"
   ]
  },
  {
   "cell_type": "markdown",
   "metadata": {},
   "source": [
    "## Poisson Distribution\n",
    "\n",
    "In this challenge you are required to use the Math library in python to solve the problems.\n",
    "\n",
    "In the UEFA champions league tournament, the average number of goals scored in a match is 2.3. \n",
    "\n",
    "**What is the probability that the number of goals scored in a match is 5?**\n",
    "\n",
    "*Hint: Use the exp() in the math library*\n",
    "\n",
    "And to calculate the factorial, you can use the following code:\n",
    "\n",
    "```python\n",
    "import math\n",
    "math.factorial(n) # n is the number you want to find the factorial of\n",
    "```"
   ]
  },
  {
   "cell_type": "code",
   "execution_count": 7,
   "metadata": {},
   "outputs": [
    {
     "name": "stdout",
     "output_type": "stream",
     "text": [
      "P(X = 5 goals) = 0.0537750255819468\n"
     ]
    }
   ],
   "source": [
    "import math\n",
    "\n",
    "# Parameters\n",
    "lmbda = 2.3   # average number of goals\n",
    "k = 5         # goals we want\n",
    "\n",
    "# Poisson probability\n",
    "p_5_goals = (lmbda**k * math.exp(-lmbda)) / math.factorial(k)\n",
    "\n",
    "print(\"P(X = 5 goals) =\", p_5_goals)\n"
   ]
  },
  {
   "cell_type": "markdown",
   "metadata": {},
   "source": [
    "**Draw a poisson probability distribution plot for the number of goals to be between 0 to 10.**"
   ]
  },
  {
   "cell_type": "code",
   "execution_count": 8,
   "metadata": {},
   "outputs": [
    {
     "data": {
      "image/png": "[encoded data removed]",
      "text/plain": [
       "<Figure size 640x480 with 1 Axes>"
      ]
     },
     "metadata": {},
     "output_type": "display_data"
    }
   ],
   "source": [
    "import math\n",
    "import matplotlib.pyplot as plt\n",
    "\n",
    "# Parameters\n",
    "lmbda = 2.3   # average number of goals per match\n",
    "\n",
    "# Values of k (0 to 10 goals)\n",
    "k_values = list(range(11))\n",
    "poisson_probs = [(lmbda**k * math.exp(-lmbda)) / math.factorial(k) for k in k_values]\n",
    "\n",
    "# Plot\n",
    "plt.bar(k_values, poisson_probs, color=\"skyblue\", edgecolor=\"black\")\n",
    "plt.xlabel(\"Number of Goals (k)\")\n",
    "plt.ylabel(\"Probability P(X=k)\")\n",
    "plt.title(\"Poisson Distribution of Goals (λ = 2.3)\")\n",
    "\n",
    "plt.show()\n"
   ]
  },
  {
   "cell_type": "code",
   "execution_count": null,
   "metadata": {},
   "outputs": [],
   "source": []
  }
 ],
 "metadata": {
  "kernelspec": {
   "display_name": "Python 3",
   "language": "python",
   "name": "python3"
  },
  "language_info": {
   "codemirror_mode": {
    "name": "ipython",
    "version": 3
   },
   "file_extension": ".py",
   "mimetype": "text/x-python",
   "name": "python",
   "nbconvert_exporter": "python",
   "pygments_lexer": "ipython3",
   "version": "3.13.3"
  }
 },
 "nbformat": 4,
 "nbformat_minor": 2
}
